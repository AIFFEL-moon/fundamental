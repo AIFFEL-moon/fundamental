{
 "cells": [
  {
   "cell_type": "markdown",
   "id": "solved-protection",
   "metadata": {},
   "source": [
    "# 자료형\n",
    "  - int   \n",
    "  (Integer)   \n",
    "  \n",
    "정수는 무한하지만 우리 컴퓨터의 메모리는 유한하다.   \n",
    "64비트 컴퓨터의 경우 기본적으로 64비트의 공간에 하나의 숫자를 저장할 수 있다.   \n",
    "이렇게 되면 <span style=\"color:orange\">2^64</span><span style=\"color:green\">(=18,446,744,073,709,551,616)</span>개의 숫자만 인식할 수 있다.   \n",
    "음과 양을 모두 생각하면 <span style=\"color:red\">-9,223,372,036,854,775,808</span>부터 <span style=\"color:blue\">9,223,372,036,854,775,807</span>까지의 숫자만을 표현할 수 있다."
   ]
  },
  {
   "cell_type": "code",
   "execution_count": 3,
   "id": "maritime-genius",
   "metadata": {},
   "outputs": [
    {
     "name": "stdout",
     "output_type": "stream",
     "text": [
      "<class 'int'>\n"
     ]
    }
   ],
   "source": [
    "print(type(1))"
   ]
  },
  {
   "cell_type": "code",
   "execution_count": 7,
   "id": "loved-vegetarian",
   "metadata": {},
   "outputs": [
    {
     "name": "stdout",
     "output_type": "stream",
     "text": [
      "1000000000000000000000000000000000000\n"
     ]
    }
   ],
   "source": [
    "number = 1000 ** 12 # 1000의 12제곱\n",
    "print(number) # 파이썬은 숫자가 커지면 알아서 메모리를 더 사용"
   ]
  },
  {
   "cell_type": "markdown",
   "id": "nutritional-frequency",
   "metadata": {},
   "source": [
    "  - float   \n",
    "  (floating-point number)"
   ]
  },
  {
   "cell_type": "code",
   "execution_count": 8,
   "id": "demographic-canon",
   "metadata": {},
   "outputs": [
    {
     "name": "stdout",
     "output_type": "stream",
     "text": [
      "<class 'float'>\n"
     ]
    }
   ],
   "source": [
    "print(type(1.1))"
   ]
  },
  {
   "cell_type": "markdown",
   "id": "grave-alloy",
   "metadata": {},
   "source": [
    "1 = 1 point   \n",
    "1.0 = 1 points = 1.0 points"
   ]
  },
  {
   "cell_type": "markdown",
   "id": "textile-novelty",
   "metadata": {},
   "source": [
    "### 부동소수점\n",
    "`추후 업데이트 예정`"
   ]
  },
  {
   "cell_type": "markdown",
   "id": "creative-balloon",
   "metadata": {},
   "source": [
    "  - NoneType   \n",
    "  \n",
    "아무 것도 없음"
   ]
  },
  {
   "cell_type": "code",
   "execution_count": 9,
   "id": "complete-bobby",
   "metadata": {},
   "outputs": [
    {
     "name": "stdout",
     "output_type": "stream",
     "text": [
      "<class 'NoneType'>\n"
     ]
    }
   ],
   "source": [
    "print(type(None))"
   ]
  },
  {
   "cell_type": "markdown",
   "id": "toxic-opening",
   "metadata": {},
   "source": [
    "  - 불린   \n",
    "  (Boolean)   \n",
    "\n",
    "True / False"
   ]
  },
  {
   "cell_type": "code",
   "execution_count": 10,
   "id": "educated-pottery",
   "metadata": {},
   "outputs": [
    {
     "name": "stdout",
     "output_type": "stream",
     "text": [
      "<class 'bool'>\n",
      "<class 'bool'>\n"
     ]
    }
   ],
   "source": [
    "print(type(True))\n",
    "print(type(False))"
   ]
  },
  {
   "cell_type": "code",
   "execution_count": 11,
   "id": "hispanic-contemporary",
   "metadata": {},
   "outputs": [
    {
     "name": "stdout",
     "output_type": "stream",
     "text": [
      "True\n"
     ]
    }
   ],
   "source": [
    "print(not False)"
   ]
  },
  {
   "cell_type": "code",
   "execution_count": 12,
   "id": "french-telephone",
   "metadata": {},
   "outputs": [
    {
     "name": "stdout",
     "output_type": "stream",
     "text": [
      "False\n",
      "False\n",
      "True\n"
     ]
    }
   ],
   "source": [
    "print(bool(0))\n",
    "print(bool(''))\n",
    "print(bool(20000))"
   ]
  },
  {
   "cell_type": "markdown",
   "id": "interpreted-extent",
   "metadata": {},
   "source": [
    "  - 문자열   \n",
    "  (String)"
   ]
  },
  {
   "cell_type": "code",
   "execution_count": 14,
   "id": "responsible-seller",
   "metadata": {},
   "outputs": [
    {
     "name": "stdout",
     "output_type": "stream",
     "text": [
      "Hello \"world\"\n",
      "Hello 'world'\n"
     ]
    }
   ],
   "source": [
    "print('Hello \"world\"')\n",
    "print('Hello \\'world\\'')"
   ]
  },
  {
   "cell_type": "code",
   "execution_count": 17,
   "id": "raised-mississippi",
   "metadata": {},
   "outputs": [
    {
     "name": "stdout",
     "output_type": "stream",
     "text": [
      "P\n",
      "n\n"
     ]
    }
   ],
   "source": [
    "str = 'Python'\n",
    "print(str[0])\n",
    "print(str[-1]) # 음수는 뒤에서부터 시작"
   ]
  },
  {
   "cell_type": "markdown",
   "id": "liberal-modification",
   "metadata": {},
   "source": [
    "  - 튜플 : ()   \n",
    "  (tuple)   \n",
    " <br></br>\n",
    "  - 리스트 : []   \n",
    "  (list)"
   ]
  },
  {
   "cell_type": "code",
   "execution_count": 22,
   "id": "excellent-jones",
   "metadata": {},
   "outputs": [
    {
     "name": "stdout",
     "output_type": "stream",
     "text": [
      "1\n"
     ]
    }
   ],
   "source": [
    "p = ((1,0), (2,3))\n",
    "print(p[0][0]) # 첫 번째 인덱스에 있는 값(1,0)에서 다시 첫 번째 인덱스값을 가지고온다."
   ]
  },
  {
   "cell_type": "code",
   "execution_count": 21,
   "id": "central-integrity",
   "metadata": {},
   "outputs": [
    {
     "ename": "IndexError",
     "evalue": "tuple index out of range",
     "output_type": "error",
     "traceback": [
      "\u001b[0;31m---------------------------------------------------------------------------\u001b[0m",
      "\u001b[0;31mIndexError\u001b[0m                                Traceback (most recent call last)",
      "\u001b[0;32m<ipython-input-21-88f9c1cf69a3>\u001b[0m in \u001b[0;36m<module>\u001b[0;34m\u001b[0m\n\u001b[0;32m----> 1\u001b[0;31m \u001b[0mprint\u001b[0m\u001b[0;34m(\u001b[0m\u001b[0mp\u001b[0m\u001b[0;34m[\u001b[0m\u001b[0;36m1\u001b[0m\u001b[0;34m]\u001b[0m\u001b[0;34m[\u001b[0m\u001b[0;36m2\u001b[0m\u001b[0;34m]\u001b[0m\u001b[0;34m)\u001b[0m\u001b[0;34m\u001b[0m\u001b[0;34m\u001b[0m\u001b[0m\n\u001b[0m",
      "\u001b[0;31mIndexError\u001b[0m: tuple index out of range"
     ]
    }
   ],
   "source": [
    "print(p[1][2])"
   ]
  },
  {
   "cell_type": "code",
   "execution_count": 26,
   "id": "automatic-catch",
   "metadata": {},
   "outputs": [
    {
     "name": "stdout",
     "output_type": "stream",
     "text": [
      "[1, 2, 3, 1]\n"
     ]
    },
    {
     "ename": "ValueError",
     "evalue": "list.remove(x): x not in list",
     "output_type": "error",
     "traceback": [
      "\u001b[0;31m---------------------------------------------------------------------------\u001b[0m",
      "\u001b[0;31mValueError\u001b[0m                                Traceback (most recent call last)",
      "\u001b[0;32m<ipython-input-26-70c7b5ca0b94>\u001b[0m in \u001b[0;36m<module>\u001b[0;34m\u001b[0m\n\u001b[1;32m      3\u001b[0m \u001b[0mprint\u001b[0m\u001b[0;34m(\u001b[0m\u001b[0mabc\u001b[0m\u001b[0;34m)\u001b[0m\u001b[0;34m\u001b[0m\u001b[0;34m\u001b[0m\u001b[0m\n\u001b[1;32m      4\u001b[0m \u001b[0;34m\u001b[0m\u001b[0m\n\u001b[0;32m----> 5\u001b[0;31m \u001b[0mabc\u001b[0m\u001b[0;34m.\u001b[0m\u001b[0mremove\u001b[0m\u001b[0;34m(\u001b[0m\u001b[0;34m'a'\u001b[0m\u001b[0;34m)\u001b[0m \u001b[0;31m# 특정값 제거\u001b[0m\u001b[0;34m\u001b[0m\u001b[0;34m\u001b[0m\u001b[0m\n\u001b[0m\u001b[1;32m      6\u001b[0m \u001b[0mprint\u001b[0m\u001b[0;34m(\u001b[0m\u001b[0mabc\u001b[0m\u001b[0;34m)\u001b[0m\u001b[0;34m\u001b[0m\u001b[0;34m\u001b[0m\u001b[0m\n",
      "\u001b[0;31mValueError\u001b[0m: list.remove(x): x not in list"
     ]
    }
   ],
   "source": [
    "abc = [1, 2, 3]\n",
    "abc.append(1) # 값을 하나씩 추가\n",
    "print(abc)\n",
    "\n",
    "abc.remove('a') # 특정값 제거 // 값이 없을 경우, 에러 발생\n",
    "print(abc)"
   ]
  },
  {
   "cell_type": "code",
   "execution_count": 29,
   "id": "buried-testing",
   "metadata": {
    "scrolled": true
   },
   "outputs": [
    {
     "name": "stdout",
     "output_type": "stream",
     "text": [
      "[1, 2, 3, 4]\n",
      "[1, 2, 3]\n",
      "[2, 3]\n"
     ]
    }
   ],
   "source": [
    "abc = [1, 2, 3]\n",
    "abc.append(4) # 값을 하나씩 추가\n",
    "print(abc)\n",
    "\n",
    "abc.remove(4) # 특정값 제거 // 값이 없을 경우, 에러 발생\n",
    "print(abc)\n",
    "\n",
    "abc.pop(0) # 특정 인덱스의 값을 제거\n",
    "print(abc)"
   ]
  },
  {
   "cell_type": "markdown",
   "id": "sonic-pipeline",
   "metadata": {},
   "source": [
    "  - 딕셔너리 : {}   \n",
    "  (dictionary)"
   ]
  },
  {
   "cell_type": "code",
   "execution_count": 37,
   "id": "bridal-texas",
   "metadata": {},
   "outputs": [
    {
     "name": "stdout",
     "output_type": "stream",
     "text": [
      "value1\n"
     ]
    }
   ],
   "source": [
    "bbb = {'key1':'value1', 'key2':'value2'}\n",
    "print(bbb['key1'])"
   ]
  },
  {
   "cell_type": "code",
   "execution_count": 38,
   "id": "expected-guide",
   "metadata": {},
   "outputs": [
    {
     "name": "stdout",
     "output_type": "stream",
     "text": [
      "{'key1': 'value1', 'key2': 'value2', 'key3': 'value3'}\n"
     ]
    }
   ],
   "source": [
    "bbb['key3'] = 'value3' # bbb[키] = 값 을 하게되면 기존에 있는 키라면 update를, 새로운 키라면 insert를 해준다.\n",
    "print(bbb)"
   ]
  },
  {
   "cell_type": "code",
   "execution_count": 39,
   "id": "lasting-malpractice",
   "metadata": {},
   "outputs": [
    {
     "name": "stdout",
     "output_type": "stream",
     "text": [
      "{'key1': 'value999999', 'key2': 'value2', 'key3': 'value3'}\n"
     ]
    }
   ],
   "source": [
    "bbb['key1'] = 'value999999'\n",
    "print(bbb)"
   ]
  },
  {
   "cell_type": "code",
   "execution_count": 40,
   "id": "perfect-highland",
   "metadata": {},
   "outputs": [
    {
     "name": "stdout",
     "output_type": "stream",
     "text": [
      "{'key1': 'value999999', 'key3': 'value3'}\n"
     ]
    }
   ],
   "source": [
    "bbb.pop('key2') # pop(키) : 특정 key-value 제거\n",
    "print(bbb)"
   ]
  },
  {
   "cell_type": "code",
   "execution_count": 41,
   "id": "agreed-norway",
   "metadata": {},
   "outputs": [
    {
     "name": "stdout",
     "output_type": "stream",
     "text": [
      "key1\n",
      "key3\n"
     ]
    }
   ],
   "source": [
    "for i in bbb: # 기본적으로 key값만 가지고온다.\n",
    "    print(i)"
   ]
  },
  {
   "cell_type": "code",
   "execution_count": 44,
   "id": "acute-vegetation",
   "metadata": {},
   "outputs": [
    {
     "name": "stdout",
     "output_type": "stream",
     "text": [
      "key1 : value999999\n",
      "key3 : value3\n"
     ]
    }
   ],
   "source": [
    "for key, value in bbb.items(): # items()로 key-value 모두 가지고온다.\n",
    "    print(key, value, sep=' : ')"
   ]
  },
  {
   "cell_type": "code",
   "execution_count": 45,
   "id": "experimental-forest",
   "metadata": {},
   "outputs": [
    {
     "name": "stdout",
     "output_type": "stream",
     "text": [
      "key1\n",
      "key3\n"
     ]
    }
   ],
   "source": [
    "for i in bbb.keys():\n",
    "    print(i)"
   ]
  },
  {
   "cell_type": "code",
   "execution_count": 46,
   "id": "outstanding-liabilities",
   "metadata": {},
   "outputs": [
    {
     "name": "stdout",
     "output_type": "stream",
     "text": [
      "value999999\n",
      "value3\n"
     ]
    }
   ],
   "source": [
    "for i in bbb.values():\n",
    "    print(i)"
   ]
  },
  {
   "cell_type": "code",
   "execution_count": null,
   "id": "empirical-shelter",
   "metadata": {},
   "outputs": [],
   "source": []
  }
 ],
 "metadata": {
  "kernelspec": {
   "display_name": "Python 3",
   "language": "python",
   "name": "python3"
  },
  "language_info": {
   "codemirror_mode": {
    "name": "ipython",
    "version": 3
   },
   "file_extension": ".py",
   "mimetype": "text/x-python",
   "name": "python",
   "nbconvert_exporter": "python",
   "pygments_lexer": "ipython3",
   "version": "3.7.9"
  }
 },
 "nbformat": 4,
 "nbformat_minor": 5
}

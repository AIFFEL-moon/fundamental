{
 "cells": [
  {
   "cell_type": "markdown",
   "id": "sticky-fluid",
   "metadata": {},
   "source": [
    "# 함수"
   ]
  },
  {
   "cell_type": "code",
   "execution_count": 1,
   "id": "banned-passing",
   "metadata": {},
   "outputs": [],
   "source": [
    "def say_hi(): # def(define)\n",
    "    print('Hello')"
   ]
  },
  {
   "cell_type": "code",
   "execution_count": 2,
   "id": "located-dominican",
   "metadata": {},
   "outputs": [
    {
     "name": "stdout",
     "output_type": "stream",
     "text": [
      "Hello\n"
     ]
    }
   ],
   "source": [
    "say_hi() # 함수 호출"
   ]
  },
  {
   "cell_type": "code",
   "execution_count": 3,
   "id": "becoming-health",
   "metadata": {},
   "outputs": [
    {
     "ename": "IndentationError",
     "evalue": "expected an indented block (<ipython-input-3-c4f2fa5850e6>, line 2)",
     "output_type": "error",
     "traceback": [
      "\u001b[0;36m  File \u001b[0;32m\"<ipython-input-3-c4f2fa5850e6>\"\u001b[0;36m, line \u001b[0;32m2\u001b[0m\n\u001b[0;31m    print('Hello')\u001b[0m\n\u001b[0m        ^\u001b[0m\n\u001b[0;31mIndentationError\u001b[0m\u001b[0;31m:\u001b[0m expected an indented block\n"
     ]
    }
   ],
   "source": [
    "def say_hi_no_indent():\n",
    "print('Hello')"
   ]
  },
  {
   "cell_type": "code",
   "execution_count": 4,
   "id": "indie-bride",
   "metadata": {},
   "outputs": [
    {
     "name": "stdout",
     "output_type": "stream",
     "text": [
      "Hello\n",
      "nice\n"
     ]
    }
   ],
   "source": [
    "def say_hi_nice():\n",
    "    print('Hello')\n",
    "    print('nice')\n",
    "    \n",
    "say_hi_nice()"
   ]
  },
  {
   "cell_type": "markdown",
   "id": "discrete-japan",
   "metadata": {},
   "source": [
    "### 변수의 범위"
   ]
  },
  {
   "cell_type": "code",
   "execution_count": 5,
   "id": "occasional-experience",
   "metadata": {},
   "outputs": [
    {
     "ename": "NameError",
     "evalue": "name 'goodbye' is not defined",
     "output_type": "error",
     "traceback": [
      "\u001b[0;31m---------------------------------------------------------------------------\u001b[0m",
      "\u001b[0;31mNameError\u001b[0m                                 Traceback (most recent call last)",
      "\u001b[0;32m<ipython-input-5-7d732a1910d2>\u001b[0m in \u001b[0;36m<module>\u001b[0;34m\u001b[0m\n\u001b[1;32m      2\u001b[0m     \u001b[0mgoodbye\u001b[0m \u001b[0;34m=\u001b[0m \u001b[0;34m'goodbye'\u001b[0m\u001b[0;34m\u001b[0m\u001b[0;34m\u001b[0m\u001b[0m\n\u001b[1;32m      3\u001b[0m \u001b[0;34m\u001b[0m\u001b[0m\n\u001b[0;32m----> 4\u001b[0;31m \u001b[0mprint\u001b[0m\u001b[0;34m(\u001b[0m\u001b[0mgoodbye\u001b[0m\u001b[0;34m)\u001b[0m\u001b[0;34m\u001b[0m\u001b[0;34m\u001b[0m\u001b[0m\n\u001b[0m",
      "\u001b[0;31mNameError\u001b[0m: name 'goodbye' is not defined"
     ]
    }
   ],
   "source": [
    "def say_goodbye():\n",
    "    goodbye = 'goodbye' # 지역변수\n",
    "    \n",
    "print(goodbye)"
   ]
  },
  {
   "cell_type": "code",
   "execution_count": 6,
   "id": "valid-accident",
   "metadata": {},
   "outputs": [
    {
     "name": "stdout",
     "output_type": "stream",
     "text": [
      "name\n"
     ]
    }
   ],
   "source": [
    "name = 'name' # 전역변수\n",
    "\n",
    "def say_name():\n",
    "    print(name)\n",
    "    \n",
    "say_name()"
   ]
  },
  {
   "cell_type": "code",
   "execution_count": 7,
   "id": "bright-wellington",
   "metadata": {},
   "outputs": [
    {
     "name": "stdout",
     "output_type": "stream",
     "text": [
      "hhhhhhhh\n"
     ]
    }
   ],
   "source": [
    "name = 'hhhhhhhh'\n",
    "\n",
    "say_name()"
   ]
  },
  {
   "cell_type": "code",
   "execution_count": 10,
   "id": "french-carrier",
   "metadata": {},
   "outputs": [
    {
     "name": "stdout",
     "output_type": "stream",
     "text": [
      "ZZZZZZZZZZZZZ\n",
      "hhhhhhhh\n"
     ]
    }
   ],
   "source": [
    "def change_name():\n",
    "    name = 'ZZZZZZZZZZZZZ'\n",
    "    print(name) # 함수 안에서만 값이 변경됨\n",
    "    \n",
    "change_name()\n",
    "\n",
    "print(name) # 함수 안에서 재할당된 변수값은 적용되지 못한다."
   ]
  },
  {
   "cell_type": "code",
   "execution_count": 11,
   "id": "collective-passport",
   "metadata": {},
   "outputs": [
    {
     "ename": "TypeError",
     "evalue": "say_hi_somebody() missing 1 required positional argument: 'name'",
     "output_type": "error",
     "traceback": [
      "\u001b[0;31m---------------------------------------------------------------------------\u001b[0m",
      "\u001b[0;31mTypeError\u001b[0m                                 Traceback (most recent call last)",
      "\u001b[0;32m<ipython-input-11-0af437d2d132>\u001b[0m in \u001b[0;36m<module>\u001b[0;34m\u001b[0m\n\u001b[1;32m      2\u001b[0m     \u001b[0mprint\u001b[0m\u001b[0;34m(\u001b[0m\u001b[0;34m'Hello '\u001b[0m \u001b[0;34m+\u001b[0m \u001b[0mname\u001b[0m\u001b[0;34m)\u001b[0m\u001b[0;34m\u001b[0m\u001b[0;34m\u001b[0m\u001b[0m\n\u001b[1;32m      3\u001b[0m \u001b[0;34m\u001b[0m\u001b[0m\n\u001b[0;32m----> 4\u001b[0;31m \u001b[0msay_hi_somebody\u001b[0m\u001b[0;34m(\u001b[0m\u001b[0;34m)\u001b[0m\u001b[0;34m\u001b[0m\u001b[0;34m\u001b[0m\u001b[0m\n\u001b[0m",
      "\u001b[0;31mTypeError\u001b[0m: say_hi_somebody() missing 1 required positional argument: 'name'"
     ]
    }
   ],
   "source": [
    "def say_hi_somebody(name):\n",
    "    print('Hello ' + name)\n",
    "    \n",
    "say_hi_somebody() # argument --> 매개변수가 꼭 있어야함"
   ]
  },
  {
   "cell_type": "code",
   "execution_count": 12,
   "id": "received-boards",
   "metadata": {},
   "outputs": [
    {
     "name": "stdout",
     "output_type": "stream",
     "text": [
      "Hello Tom\n"
     ]
    }
   ],
   "source": [
    "say_hi_somebody('Tom') # 매개변수에 들어가는 인자"
   ]
  },
  {
   "cell_type": "code",
   "execution_count": 13,
   "id": "global-aurora",
   "metadata": {},
   "outputs": [
    {
     "ename": "TypeError",
     "evalue": "say_hi_nice() takes 0 positional arguments but 1 was given",
     "output_type": "error",
     "traceback": [
      "\u001b[0;31m---------------------------------------------------------------------------\u001b[0m",
      "\u001b[0;31mTypeError\u001b[0m                                 Traceback (most recent call last)",
      "\u001b[0;32m<ipython-input-13-9309c03ae478>\u001b[0m in \u001b[0;36m<module>\u001b[0;34m\u001b[0m\n\u001b[1;32m      1\u001b[0m \u001b[0;31m# 매개변수 없는 함수에 억지로 인자를 넣어줄 경우\u001b[0m\u001b[0;34m\u001b[0m\u001b[0;34m\u001b[0m\u001b[0;34m\u001b[0m\u001b[0m\n\u001b[0;32m----> 2\u001b[0;31m \u001b[0msay_hi_nice\u001b[0m\u001b[0;34m(\u001b[0m\u001b[0;34m'Tom'\u001b[0m\u001b[0;34m)\u001b[0m\u001b[0;34m\u001b[0m\u001b[0;34m\u001b[0m\u001b[0m\n\u001b[0m",
      "\u001b[0;31mTypeError\u001b[0m: say_hi_nice() takes 0 positional arguments but 1 was given"
     ]
    }
   ],
   "source": [
    "# 매개변수 없는 함수에 억지로 인자를 넣어줄 경우\n",
    "say_hi_nice('Tom')"
   ]
  },
  {
   "cell_type": "code",
   "execution_count": 14,
   "id": "planned-fitness",
   "metadata": {},
   "outputs": [],
   "source": [
    "def say_hi_default(name='Somebody'): # 함수 생성할 때 매개변수 인자를 넣어주지않아도 동작하게끔 설정\n",
    "    print('Hello ' + name)"
   ]
  },
  {
   "cell_type": "code",
   "execution_count": 15,
   "id": "disturbed-interpretation",
   "metadata": {},
   "outputs": [
    {
     "name": "stdout",
     "output_type": "stream",
     "text": [
      "Hello Somebody\n"
     ]
    }
   ],
   "source": [
    "say_hi_default() # 인자를 넣어주지 않았을 때 --> 함수에서 설정한 'Somebody'라는 값이 기본값으로 설정되어 있어서 출력됨"
   ]
  },
  {
   "cell_type": "code",
   "execution_count": 16,
   "id": "geological-bennett",
   "metadata": {},
   "outputs": [
    {
     "name": "stdout",
     "output_type": "stream",
     "text": [
      "Hello Jane\n"
     ]
    }
   ],
   "source": [
    "say_hi_default('Jane')"
   ]
  },
  {
   "cell_type": "markdown",
   "id": "perceived-clinic",
   "metadata": {},
   "source": [
    "### 여러 인자 넣기"
   ]
  },
  {
   "cell_type": "code",
   "execution_count": 17,
   "id": "delayed-stephen",
   "metadata": {},
   "outputs": [
    {
     "name": "stdout",
     "output_type": "stream",
     "text": [
      "Tom Jane\n"
     ]
    }
   ],
   "source": [
    "def say_hi_couple(name1, name2):\n",
    "    print(name1, name2)\n",
    "\n",
    "say_hi_couple('Tom', 'Jane')"
   ]
  },
  {
   "cell_type": "code",
   "execution_count": 18,
   "id": "precious-antarctica",
   "metadata": {},
   "outputs": [
    {
     "ename": "TypeError",
     "evalue": "say_hi_couple() missing 2 required positional arguments: 'name1' and 'name2'",
     "output_type": "error",
     "traceback": [
      "\u001b[0;31m---------------------------------------------------------------------------\u001b[0m",
      "\u001b[0;31mTypeError\u001b[0m                                 Traceback (most recent call last)",
      "\u001b[0;32m<ipython-input-18-ac51185c7c0c>\u001b[0m in \u001b[0;36m<module>\u001b[0;34m\u001b[0m\n\u001b[0;32m----> 1\u001b[0;31m \u001b[0msay_hi_couple\u001b[0m\u001b[0;34m(\u001b[0m\u001b[0;34m)\u001b[0m\u001b[0;34m\u001b[0m\u001b[0;34m\u001b[0m\u001b[0m\n\u001b[0m",
      "\u001b[0;31mTypeError\u001b[0m: say_hi_couple() missing 2 required positional arguments: 'name1' and 'name2'"
     ]
    }
   ],
   "source": [
    "say_hi_couple()"
   ]
  },
  {
   "cell_type": "code",
   "execution_count": 19,
   "id": "protected-jefferson",
   "metadata": {},
   "outputs": [
    {
     "ename": "TypeError",
     "evalue": "say_hi_couple() missing 1 required positional argument: 'name2'",
     "output_type": "error",
     "traceback": [
      "\u001b[0;31m---------------------------------------------------------------------------\u001b[0m",
      "\u001b[0;31mTypeError\u001b[0m                                 Traceback (most recent call last)",
      "\u001b[0;32m<ipython-input-19-11f858d80271>\u001b[0m in \u001b[0;36m<module>\u001b[0;34m\u001b[0m\n\u001b[0;32m----> 1\u001b[0;31m \u001b[0msay_hi_couple\u001b[0m\u001b[0;34m(\u001b[0m\u001b[0;34m'Tom'\u001b[0m\u001b[0;34m)\u001b[0m\u001b[0;34m\u001b[0m\u001b[0;34m\u001b[0m\u001b[0m\n\u001b[0m",
      "\u001b[0;31mTypeError\u001b[0m: say_hi_couple() missing 1 required positional argument: 'name2'"
     ]
    }
   ],
   "source": [
    "say_hi_couple('Tom')"
   ]
  },
  {
   "cell_type": "code",
   "execution_count": 20,
   "id": "tight-tobago",
   "metadata": {},
   "outputs": [
    {
     "name": "stdout",
     "output_type": "stream",
     "text": [
      "Jane Tom\n"
     ]
    }
   ],
   "source": [
    "say_hi_couple(name1='Jane', name2='Tom')"
   ]
  },
  {
   "cell_type": "code",
   "execution_count": 22,
   "id": "tight-surgery",
   "metadata": {},
   "outputs": [
    {
     "ename": "TypeError",
     "evalue": "say_hi_couple() got an unexpected keyword argument 'name123'",
     "output_type": "error",
     "traceback": [
      "\u001b[0;31m---------------------------------------------------------------------------\u001b[0m",
      "\u001b[0;31mTypeError\u001b[0m                                 Traceback (most recent call last)",
      "\u001b[0;32m<ipython-input-22-a7874870f012>\u001b[0m in \u001b[0;36m<module>\u001b[0;34m\u001b[0m\n\u001b[0;32m----> 1\u001b[0;31m \u001b[0msay_hi_couple\u001b[0m\u001b[0;34m(\u001b[0m\u001b[0mname123\u001b[0m\u001b[0;34m=\u001b[0m\u001b[0;34m'Jane'\u001b[0m\u001b[0;34m,\u001b[0m \u001b[0mname456\u001b[0m\u001b[0;34m=\u001b[0m\u001b[0;34m'Tom'\u001b[0m\u001b[0;34m)\u001b[0m\u001b[0;34m\u001b[0m\u001b[0;34m\u001b[0m\u001b[0m\n\u001b[0m",
      "\u001b[0;31mTypeError\u001b[0m: say_hi_couple() got an unexpected keyword argument 'name123'"
     ]
    }
   ],
   "source": [
    "say_hi_couple(name123='Jane', name456='Tom') # 함수 생성할 때 만들었던 매개변수의 이름 그대로 넣어주어야함"
   ]
  },
  {
   "cell_type": "code",
   "execution_count": 23,
   "id": "periodic-fluid",
   "metadata": {},
   "outputs": [
    {
     "name": "stdout",
     "output_type": "stream",
     "text": [
      "Tom Jane\n"
     ]
    }
   ],
   "source": [
    "say_hi_couple(name2='Jane', name1='Tom')"
   ]
  },
  {
   "cell_type": "code",
   "execution_count": 29,
   "id": "flush-moment",
   "metadata": {},
   "outputs": [],
   "source": [
    "def say_hi_couple_default_good(name1='default_name1', name2 = 'default_name2'):\n",
    "    print(name1, name2)"
   ]
  },
  {
   "cell_type": "code",
   "execution_count": 30,
   "id": "distinguished-polyester",
   "metadata": {},
   "outputs": [
    {
     "name": "stdout",
     "output_type": "stream",
     "text": [
      "default_name1 default_name2\n"
     ]
    }
   ],
   "source": [
    "say_hi_couple_default_good()"
   ]
  },
  {
   "cell_type": "code",
   "execution_count": 34,
   "id": "impressed-newfoundland",
   "metadata": {},
   "outputs": [],
   "source": [
    "def say_hi_couple_default_bad1(name1, name2 = 'default_name2'): # name1에 기본값 설정 안해줬으므로 name1에는 무조건 인자가 와야함\n",
    "    print(name1, name2)"
   ]
  },
  {
   "cell_type": "code",
   "execution_count": 35,
   "id": "brown-gross",
   "metadata": {},
   "outputs": [
    {
     "ename": "TypeError",
     "evalue": "say_hi_couple_default_bad1() missing 1 required positional argument: 'name1'",
     "output_type": "error",
     "traceback": [
      "\u001b[0;31m---------------------------------------------------------------------------\u001b[0m",
      "\u001b[0;31mTypeError\u001b[0m                                 Traceback (most recent call last)",
      "\u001b[0;32m<ipython-input-35-bb1d5e7c2463>\u001b[0m in \u001b[0;36m<module>\u001b[0;34m\u001b[0m\n\u001b[0;32m----> 1\u001b[0;31m \u001b[0msay_hi_couple_default_bad1\u001b[0m\u001b[0;34m(\u001b[0m\u001b[0;34m)\u001b[0m \u001b[0;31m# name1에 기본값 설정 안해줬으므로 error\u001b[0m\u001b[0;34m\u001b[0m\u001b[0;34m\u001b[0m\u001b[0m\n\u001b[0m",
      "\u001b[0;31mTypeError\u001b[0m: say_hi_couple_default_bad1() missing 1 required positional argument: 'name1'"
     ]
    }
   ],
   "source": [
    "say_hi_couple_default_bad1() # name1에 기본값 설정 안해줬으므로 error"
   ]
  },
  {
   "cell_type": "code",
   "execution_count": 31,
   "id": "centered-compilation",
   "metadata": {},
   "outputs": [
    {
     "ename": "SyntaxError",
     "evalue": "non-default argument follows default argument (<ipython-input-31-72ac718775d1>, line 1)",
     "output_type": "error",
     "traceback": [
      "\u001b[0;36m  File \u001b[0;32m\"<ipython-input-31-72ac718775d1>\"\u001b[0;36m, line \u001b[0;32m1\u001b[0m\n\u001b[0;31m    def say_hi_couple_default_bad(name1='default_name1', name2):\u001b[0m\n\u001b[0m                                 ^\u001b[0m\n\u001b[0;31mSyntaxError\u001b[0m\u001b[0;31m:\u001b[0m non-default argument follows default argument\n"
     ]
    }
   ],
   "source": [
    "def say_hi_couple_default_bad2(name1='default_name1', name2):\n",
    "    print(name1, name2)"
   ]
  },
  {
   "cell_type": "markdown",
   "id": "square-lunch",
   "metadata": {},
   "source": [
    "### 함수의 결과로 값 반환"
   ]
  },
  {
   "cell_type": "code",
   "execution_count": 36,
   "id": "emotional-suffering",
   "metadata": {},
   "outputs": [],
   "source": [
    "def add(num1, num2):\n",
    "    print(num1 + num2)"
   ]
  },
  {
   "cell_type": "code",
   "execution_count": 37,
   "id": "ultimate-tampa",
   "metadata": {},
   "outputs": [
    {
     "name": "stdout",
     "output_type": "stream",
     "text": [
      "3\n"
     ]
    }
   ],
   "source": [
    "add(1,2)"
   ]
  },
  {
   "cell_type": "code",
   "execution_count": 39,
   "id": "german-solution",
   "metadata": {},
   "outputs": [
    {
     "name": "stdout",
     "output_type": "stream",
     "text": [
      "3\n"
     ]
    },
    {
     "ename": "TypeError",
     "evalue": "unsupported operand type(s) for +: 'NoneType' and 'int'",
     "output_type": "error",
     "traceback": [
      "\u001b[0;31m---------------------------------------------------------------------------\u001b[0m",
      "\u001b[0;31mTypeError\u001b[0m                                 Traceback (most recent call last)",
      "\u001b[0;32m<ipython-input-39-c155e1a0ee44>\u001b[0m in \u001b[0;36m<module>\u001b[0;34m\u001b[0m\n\u001b[0;32m----> 1\u001b[0;31m \u001b[0mprint\u001b[0m\u001b[0;34m(\u001b[0m\u001b[0madd\u001b[0m\u001b[0;34m(\u001b[0m\u001b[0;36m1\u001b[0m\u001b[0;34m,\u001b[0m\u001b[0;36m2\u001b[0m\u001b[0;34m)\u001b[0m \u001b[0;34m+\u001b[0m \u001b[0;36m3\u001b[0m\u001b[0;34m)\u001b[0m \u001b[0;31m# add함수는 반환값이 없으므로 연산이 불가능\u001b[0m\u001b[0;34m\u001b[0m\u001b[0;34m\u001b[0m\u001b[0m\n\u001b[0m",
      "\u001b[0;31mTypeError\u001b[0m: unsupported operand type(s) for +: 'NoneType' and 'int'"
     ]
    }
   ],
   "source": [
    "print(add(1,2) + 3) # add함수는 반환값이 없으므로 연산이 불가능"
   ]
  },
  {
   "cell_type": "code",
   "execution_count": 40,
   "id": "spanish-praise",
   "metadata": {},
   "outputs": [],
   "source": [
    "def add_return(num1, num2):\n",
    "    print(num1 + num2)\n",
    "    return num1+num2"
   ]
  },
  {
   "cell_type": "code",
   "execution_count": 41,
   "id": "inner-percentage",
   "metadata": {},
   "outputs": [
    {
     "name": "stdout",
     "output_type": "stream",
     "text": [
      "3\n",
      "6\n"
     ]
    }
   ],
   "source": [
    "print(add_return(1, 2) + 3)\n",
    "# 3 --> add_return에 있는 print()\n",
    "# 6 --> 실행된 print()"
   ]
  },
  {
   "cell_type": "code",
   "execution_count": 42,
   "id": "declared-newsletter",
   "metadata": {},
   "outputs": [],
   "source": [
    "def print_two(word1, word2):\n",
    "    print(word1)\n",
    "    print(word2)\n",
    "\n",
    "def print_and_return(word1, word2, word3):\n",
    "    print_two(word3, word2)\n",
    "    return word1"
   ]
  },
  {
   "cell_type": "code",
   "execution_count": 43,
   "id": "determined-beaver",
   "metadata": {},
   "outputs": [
    {
     "name": "stdout",
     "output_type": "stream",
     "text": [
      "D\n",
      "C\n",
      "A\n",
      "B\n"
     ]
    }
   ],
   "source": [
    "print_two('A', print_and_return('B', 'C', 'D'))"
   ]
  },
  {
   "cell_type": "markdown",
   "id": "disciplinary-prescription",
   "metadata": {},
   "source": [
    "## 해설\n",
    "---\n",
    "```python\n",
    "def print_two(word1, word2):\n",
    "    print(word1)\n",
    "    print(word2)\n",
    "\n",
    "def print_and_return(word1, word2, word3):\n",
    "    print_two(word3, word2)\n",
    "    return word1\n",
    "\n",
    "print_two('A', print_and_return('B', 'C', 'D'))\n",
    "```\n",
    "\n",
    "---\n",
    "\n",
    "print_two() 함수 인자로 'A'와 print_and_return('B', 'C', 'D') 2가지가 들어간다.   \n",
    "\n",
    "만약 여기서 문제가 print_two('A', 'B')라고 한다면   \n",
    "print_two() 함수부터 실행하지만,   \n",
    "인자로 함수인 print_and_return('B', 'C', 'D')이 있으므로 함수부터 실행한다.\n",
    "\n",
    "즉, 첫 번째로\n",
    "print_and_return('B', 'C', 'D') 이므로\n",
    "```python\n",
    "def print_and_return('B', 'C', 'D'):\n",
    "    print_two('D', 'C')\n",
    "    return 'B'\n",
    "```\n",
    "가 된다.\n",
    "\n",
    "여기서 print_two('D', 'C')을 실행한다.\n",
    "\n",
    "```python\n",
    "def print_two('D', 'C'):\n",
    "    print('D')\n",
    "    print('C')\n",
    "```\n",
    "    \n",
    "그 다음 print_and_return() 함수가 'B'를 반환하므로\n",
    "print_two('A', 'B') 가 된다.\n",
    "\n",
    "```python\n",
    "def print_two('A', 'B'):\n",
    "    print('A')\n",
    "    print('B')\n",
    "```\n",
    "    \n",
    "D    <br>\n",
    "C    \n",
    "A   <br>\n",
    "B   \n",
    "순서로 출력된다."
   ]
  },
  {
   "cell_type": "code",
   "execution_count": null,
   "id": "retained-greece",
   "metadata": {},
   "outputs": [],
   "source": []
  }
 ],
 "metadata": {
  "kernelspec": {
   "display_name": "Python 3",
   "language": "python",
   "name": "python3"
  },
  "language_info": {
   "codemirror_mode": {
    "name": "ipython",
    "version": 3
   },
   "file_extension": ".py",
   "mimetype": "text/x-python",
   "name": "python",
   "nbconvert_exporter": "python",
   "pygments_lexer": "ipython3",
   "version": "3.7.9"
  }
 },
 "nbformat": 4,
 "nbformat_minor": 5
}

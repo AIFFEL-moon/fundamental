{
 "cells": [
  {
   "cell_type": "markdown",
   "id": "american-procedure",
   "metadata": {},
   "source": [
    "# 제어문\n",
    "  - if"
   ]
  },
  {
   "cell_type": "code",
   "execution_count": 1,
   "id": "divine-builder",
   "metadata": {},
   "outputs": [],
   "source": [
    "def print_if_positive(num):\n",
    "    if num >= 0: # 0 이상일 경우에만 출력\n",
    "        print(num)"
   ]
  },
  {
   "cell_type": "code",
   "execution_count": 2,
   "id": "outstanding-courtesy",
   "metadata": {
    "scrolled": true
   },
   "outputs": [
    {
     "name": "stdout",
     "output_type": "stream",
     "text": [
      "1\n"
     ]
    }
   ],
   "source": [
    "print_if_positive(1)"
   ]
  },
  {
   "cell_type": "code",
   "execution_count": 3,
   "id": "posted-brooks",
   "metadata": {},
   "outputs": [],
   "source": [
    "print_if_positive(-1)"
   ]
  },
  {
   "cell_type": "markdown",
   "id": "organizational-purple",
   "metadata": {},
   "source": [
    "  - if - else"
   ]
  },
  {
   "cell_type": "code",
   "execution_count": 4,
   "id": "adjusted-buffalo",
   "metadata": {},
   "outputs": [],
   "source": [
    "def print_whether_positive_or_negative(num):\n",
    "    if num >= 0: # 0 이상이면 + 출력\n",
    "        print('+')\n",
    "    else: # 0 미만이면 - 출력\n",
    "        print('-')"
   ]
  },
  {
   "cell_type": "code",
   "execution_count": 17,
   "id": "accompanied-august",
   "metadata": {},
   "outputs": [
    {
     "name": "stdout",
     "output_type": "stream",
     "text": [
      "+\n",
      "-\n",
      "\n",
      "+\n",
      "+\n"
     ]
    }
   ],
   "source": [
    "print_whether_positive_or_negative(1)\n",
    "print_whether_positive_or_negative(-1)\n",
    "print()\n",
    "print_whether_positive_or_negative(True)\n",
    "print_whether_positive_or_negative(False)"
   ]
  },
  {
   "cell_type": "code",
   "execution_count": 9,
   "id": "seventh-march",
   "metadata": {
    "scrolled": true
   },
   "outputs": [
    {
     "ename": "TypeError",
     "evalue": "'>=' not supported between instances of 'str' and 'int'",
     "output_type": "error",
     "traceback": [
      "\u001b[0;31m---------------------------------------------------------------------------\u001b[0m",
      "\u001b[0;31mTypeError\u001b[0m                                 Traceback (most recent call last)",
      "\u001b[0;32m<ipython-input-9-2b97341a6ccd>\u001b[0m in \u001b[0;36m<module>\u001b[0;34m\u001b[0m\n\u001b[0;32m----> 1\u001b[0;31m \u001b[0mprint_whether_positive_or_negative\u001b[0m\u001b[0;34m(\u001b[0m\u001b[0;34m'abc'\u001b[0m\u001b[0;34m)\u001b[0m\u001b[0;34m\u001b[0m\u001b[0;34m\u001b[0m\u001b[0m\n\u001b[0m",
      "\u001b[0;32m<ipython-input-4-6af717f36c7f>\u001b[0m in \u001b[0;36mprint_whether_positive_or_negative\u001b[0;34m(num)\u001b[0m\n\u001b[1;32m      1\u001b[0m \u001b[0;32mdef\u001b[0m \u001b[0mprint_whether_positive_or_negative\u001b[0m\u001b[0;34m(\u001b[0m\u001b[0mnum\u001b[0m\u001b[0;34m)\u001b[0m\u001b[0;34m:\u001b[0m\u001b[0;34m\u001b[0m\u001b[0;34m\u001b[0m\u001b[0m\n\u001b[0;32m----> 2\u001b[0;31m     \u001b[0;32mif\u001b[0m \u001b[0mnum\u001b[0m \u001b[0;34m>=\u001b[0m \u001b[0;36m0\u001b[0m\u001b[0;34m:\u001b[0m\u001b[0;34m\u001b[0m\u001b[0;34m\u001b[0m\u001b[0m\n\u001b[0m\u001b[1;32m      3\u001b[0m         \u001b[0mprint\u001b[0m\u001b[0;34m(\u001b[0m\u001b[0;34m'+'\u001b[0m\u001b[0;34m)\u001b[0m\u001b[0;34m\u001b[0m\u001b[0;34m\u001b[0m\u001b[0m\n\u001b[1;32m      4\u001b[0m     \u001b[0;32melse\u001b[0m\u001b[0;34m:\u001b[0m\u001b[0;34m\u001b[0m\u001b[0;34m\u001b[0m\u001b[0m\n\u001b[1;32m      5\u001b[0m         \u001b[0mprint\u001b[0m\u001b[0;34m(\u001b[0m\u001b[0;34m'-'\u001b[0m\u001b[0;34m)\u001b[0m\u001b[0;34m\u001b[0m\u001b[0;34m\u001b[0m\u001b[0m\n",
      "\u001b[0;31mTypeError\u001b[0m: '>=' not supported between instances of 'str' and 'int'"
     ]
    }
   ],
   "source": [
    "print_whether_positive_or_negative('abc')"
   ]
  },
  {
   "cell_type": "markdown",
   "id": "abroad-indianapolis",
   "metadata": {},
   "source": [
    "  - if - elif - else"
   ]
  },
  {
   "cell_type": "code",
   "execution_count": 10,
   "id": "centered-roberts",
   "metadata": {},
   "outputs": [],
   "source": [
    "def print_whether_positive_or_negative_or_zero(num):\n",
    "    if num > 0: # 양수인 경우, + 출력\n",
    "        print('+')\n",
    "    elif num == 0: # 0인 경우, 0 출력\n",
    "        print(0)\n",
    "    else: # 음수인 경우, - 출력\n",
    "        print('-')"
   ]
  },
  {
   "cell_type": "code",
   "execution_count": 19,
   "id": "measured-taylor",
   "metadata": {},
   "outputs": [
    {
     "name": "stdout",
     "output_type": "stream",
     "text": [
      "+\n",
      "0\n",
      "<class 'NoneType'>\n",
      "-\n"
     ]
    }
   ],
   "source": [
    "print_whether_positive_or_negative_or_zero(1)\n",
    "a = print_whether_positive_or_negative_or_zero(0)\n",
    "print(type(a))\n",
    "print_whether_positive_or_negative_or_zero(-1)"
   ]
  },
  {
   "cell_type": "code",
   "execution_count": 20,
   "id": "bored-cotton",
   "metadata": {},
   "outputs": [],
   "source": [
    "# 양수이면서 짝수인 숫자만 출력\n",
    "def print_positive_and_even_number(num):\n",
    "    if num > 0 and (num % 2) == 0:\n",
    "        print(num)"
   ]
  },
  {
   "cell_type": "code",
   "execution_count": 21,
   "id": "weighted-satellite",
   "metadata": {},
   "outputs": [
    {
     "name": "stdout",
     "output_type": "stream",
     "text": [
      "2\n"
     ]
    }
   ],
   "source": [
    "print_positive_and_even_number(0)\n",
    "print_positive_and_even_number(1)\n",
    "print_positive_and_even_number(-1)\n",
    "print_positive_and_even_number(2) # 실행\n",
    "print_positive_and_even_number(-2)\n",
    "print_positive_and_even_number(3)\n",
    "print_positive_and_even_number(-3)"
   ]
  },
  {
   "cell_type": "markdown",
   "id": "bacterial-brighton",
   "metadata": {},
   "source": [
    "  - while   \n",
    "조건식이 참일 경우에만 실행"
   ]
  },
  {
   "cell_type": "code",
   "execution_count": 25,
   "id": "given-sacrifice",
   "metadata": {},
   "outputs": [
    {
     "name": "stdout",
     "output_type": "stream",
     "text": [
      "1, 2, 3, 4, 5, 6, 7, 8, 9, 10, "
     ]
    }
   ],
   "source": [
    "a = 1\n",
    "while a <= 10:\n",
    "    print(a, end=', ')\n",
    "    a += 1"
   ]
  },
  {
   "cell_type": "code",
   "execution_count": 27,
   "id": "virgin-somerset",
   "metadata": {},
   "outputs": [],
   "source": [
    "a = 1\n",
    "while a >= 10:\n",
    "    print(a, end=', ')\n",
    "    a -= 1\n",
    "# 실행하지 않음 --> while문의 조건식이 거짓이므로"
   ]
  },
  {
   "cell_type": "markdown",
   "id": "equal-estonia",
   "metadata": {},
   "source": [
    "  - for   \n",
    "  \n",
    "iterable 객체를 순서대로 하나씩 처리   \n",
    "     \n",
    "반복 가능한 객체 : 하나씩 순서대로 넘길(iterate)수 있는 값   \n",
    "(iterable, [이터러블])"
   ]
  },
  {
   "cell_type": "code",
   "execution_count": 29,
   "id": "waiting-force",
   "metadata": {},
   "outputs": [
    {
     "name": "stdout",
     "output_type": "stream",
     "text": [
      "H, e, l, l, o, "
     ]
    }
   ],
   "source": [
    "for c in 'Hello':\n",
    "    print(c, end=', ')"
   ]
  },
  {
   "cell_type": "code",
   "execution_count": null,
   "id": "successful-greene",
   "metadata": {},
   "outputs": [],
   "source": []
  }
 ],
 "metadata": {
  "kernelspec": {
   "display_name": "Python 3",
   "language": "python",
   "name": "python3"
  },
  "language_info": {
   "codemirror_mode": {
    "name": "ipython",
    "version": 3
   },
   "file_extension": ".py",
   "mimetype": "text/x-python",
   "name": "python",
   "nbconvert_exporter": "python",
   "pygments_lexer": "ipython3",
   "version": "3.7.9"
  }
 },
 "nbformat": 4,
 "nbformat_minor": 5
}
